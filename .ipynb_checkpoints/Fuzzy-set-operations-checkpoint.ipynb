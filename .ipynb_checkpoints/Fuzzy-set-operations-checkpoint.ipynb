{
 "cells": [
  {
   "cell_type": "markdown",
   "metadata": {},
   "source": [
    "<h1 style=\"color:slateblue;font-family:courier;\">Fuzzy Operations</h1>"
   ]
  },
  {
   "cell_type": "markdown",
   "metadata": {},
   "source": [
    "<h2 style=\"color:slateblue;font-family:courier;\">Triangular Norms (T-norms)</h2>\n",
    "\n",
    "<ul style=\"font-size:20px;font-family:courier;\">\n",
    "    <li>Four t-norms functions are implemented in the <i>t-norms.R</i> script: \n",
    "      <ul>\n",
    "          <li>Minimum</li>\n",
    "          <li>Product</li>\n",
    "          <li>Lukasiewicz</li>\n",
    "          <li>Drastic Product</li>\n",
    "      </ul>\n",
    "    </li>  \n",
    "</ul> "
   ]
  },
  {
   "cell_type": "code",
   "execution_count": null,
   "metadata": {},
   "outputs": [],
   "source": [
    "source(\"t-norms.R\")"
   ]
  },
  {
   "cell_type": "markdown",
   "metadata": {},
   "source": [
    "<h3 style=\"color:slateblue;font-family:courier;\">Defining the triangular membership function by given the three points, minimum, mean and maximum values for each fuzzy set</h3>"
   ]
  },
  {
   "cell_type": "code",
   "execution_count": null,
   "metadata": {},
   "outputs": [],
   "source": [
    "fuzzy.set.a = c(min.value = 1, mean.value = 4, max.value = 6)\n",
    "fuzzy.set.b = c(min.value = 3, mean.value = 5, max.value = 7)"
   ]
  },
  {
   "cell_type": "markdown",
   "metadata": {},
   "source": [
    "<h3 style=\"color:slateblue;font-family:courier;\">The <i>plot.tnorms</i> function gives the plot of all t-norms </h3>"
   ]
  },
  {
   "cell_type": "code",
   "execution_count": null,
   "metadata": {},
   "outputs": [],
   "source": [
    "plot.tnorms(fuzzy.set.a, fuzzy.set.b)"
   ]
  },
  {
   "cell_type": "markdown",
   "metadata": {},
   "source": [
    "<h3 style=\"color:slateblue;font-family:courier;\"><i>plot.tnorms</i> gives the individual plot of each t-norm from its name (third parameter) </h3>"
   ]
  },
  {
   "cell_type": "code",
   "execution_count": null,
   "metadata": {},
   "outputs": [],
   "source": [
    "plot.tnorms(fuzzy.set.a, fuzzy.set.b, \"min\")\n",
    "plot.tnorms(fuzzy.set.a, fuzzy.set.b, \"pro\")"
   ]
  },
  {
   "cell_type": "code",
   "execution_count": null,
   "metadata": {},
   "outputs": [],
   "source": [
    "plot.tnorms(fuzzy.set.a, fuzzy.set.b, \"luka\")\n",
    "plot.tnorms(fuzzy.set.a, fuzzy.set.b, \"dra\")"
   ]
  },
  {
   "cell_type": "markdown",
   "metadata": {},
   "source": [
    "<h2 style=\"color:slateblue;font-family:courier;\">Triangular Conorms (S-norms)</h2>\n",
    "\n",
    "<ul style=\"font-size:20px;font-family:courier;\">\n",
    "    <li>Four t-norms functions are implemented in the <i>s-norms.R</i> script: \n",
    "      <ul>\n",
    "          <li>Maximum</li>\n",
    "          <li>Probabilistic sum</li>\n",
    "          <li>Bounded sum (Lukasiewicz)</li>\n",
    "          <li>Drastic sum</li>\n",
    "      </ul>\n",
    "    </li>  \n",
    "</ul> "
   ]
  },
  {
   "cell_type": "code",
   "execution_count": null,
   "metadata": {},
   "outputs": [],
   "source": [
    "source(\"s-norms.R\")"
   ]
  },
  {
   "cell_type": "markdown",
   "metadata": {},
   "source": [
    "<h3 style=\"color:slateblue;font-family:courier;\">The <i>plot.snorms</i> function gives the plot of all s-norms </h3>"
   ]
  },
  {
   "cell_type": "code",
   "execution_count": null,
   "metadata": {},
   "outputs": [],
   "source": [
    "plot.snorms(fuzzy.set.a, fuzzy.set.b)"
   ]
  },
  {
   "cell_type": "markdown",
   "metadata": {},
   "source": [
    "<h3 style=\"color:slateblue;font-family:courier;\"><i>plot.tnorms</i> gives the individual plot of each t-norm its name (third parameter) </h3>"
   ]
  },
  {
   "cell_type": "code",
   "execution_count": null,
   "metadata": {},
   "outputs": [],
   "source": [
    "plot.snorms(fuzzy.set.a, fuzzy.set.b, \"max\")\n",
    "plot.snorms(fuzzy.set.a, fuzzy.set.b, \"pro\")"
   ]
  },
  {
   "cell_type": "code",
   "execution_count": null,
   "metadata": {},
   "outputs": [],
   "source": [
    "plot.snorms(fuzzy.set.a, fuzzy.set.b, \"bound\")\n",
    "plot.snorms(fuzzy.set.a, fuzzy.set.b, \"dra\")"
   ]
  }
 ],
 "metadata": {
  "kernelspec": {
   "display_name": "R",
   "language": "R",
   "name": "ir"
  },
  "language_info": {
   "codemirror_mode": "r",
   "file_extension": ".r",
   "mimetype": "text/x-r-source",
   "name": "R",
   "pygments_lexer": "r",
   "version": "4.0.2"
  }
 },
 "nbformat": 4,
 "nbformat_minor": 4
}
